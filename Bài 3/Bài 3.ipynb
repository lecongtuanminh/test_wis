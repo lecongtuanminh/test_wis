{
 "cells": [
  {
   "cell_type": "code",
   "execution_count": 4,
   "metadata": {},
   "outputs": [
    {
     "name": "stdout",
     "output_type": "stream",
     "text": [
      "Nhập số: 9\n",
      "9 không phải là số nguyên tố\n"
     ]
    }
   ],
   "source": [
    "import math\n",
    "num = int(input(\"Nhập số: \"))\n",
    "\n",
    "\n",
    "if num > 1:\n",
    "   \n",
    "   for i in range(2,(math.floor(math.sqrt(num))+1)):\n",
    "       if (num % i) == 0:\n",
    "           print(num,\"không phải là số nguyên tố\")\n",
    "           break\n",
    "   else:\n",
    "       print(num,\"là số nguyên tốr\")\n",
    "else:\n",
    "   print(num,\"không phải là số nguyên tố\")"
   ]
  },
  {
   "cell_type": "code",
   "execution_count": null,
   "metadata": {},
   "outputs": [],
   "source": []
  }
 ],
 "metadata": {
  "kernelspec": {
   "display_name": "Python 3",
   "language": "python",
   "name": "python3"
  },
  "language_info": {
   "codemirror_mode": {
    "name": "ipython",
    "version": 3
   },
   "file_extension": ".py",
   "mimetype": "text/x-python",
   "name": "python",
   "nbconvert_exporter": "python",
   "pygments_lexer": "ipython3",
   "version": "3.8.8"
  }
 },
 "nbformat": 4,
 "nbformat_minor": 4
}
