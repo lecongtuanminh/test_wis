{
 "cells": [
  {
   "cell_type": "code",
   "execution_count": 13,
   "id": "composite-negative",
   "metadata": {},
   "outputs": [
    {
     "name": "stdout",
     "output_type": "stream",
     "text": [
      "Bạn muốn bao nhiêu số Fibonacci: 20\n",
      "1 2 3 5 8 13 21 34 55 89 144 233 377 610 987 1597 2584 4181 6765 10946 "
     ]
    }
   ],
   "source": [
    "a = 0\n",
    "b = 1\n",
    "n = int(input('Bạn muốn bao nhiêu số Fibonacci: '))\n",
    "for i in range(n):\n",
    "    temp = a + b\n",
    "    a = b\n",
    "    b = temp\n",
    "    print(temp, end =' ')\n",
    "    "
   ]
  }
 ],
 "metadata": {
  "kernelspec": {
   "display_name": "Python 3",
   "language": "python",
   "name": "python3"
  },
  "language_info": {
   "codemirror_mode": {
    "name": "ipython",
    "version": 3
   },
   "file_extension": ".py",
   "mimetype": "text/x-python",
   "name": "python",
   "nbconvert_exporter": "python",
   "pygments_lexer": "ipython3",
   "version": "3.8.8"
  }
 },
 "nbformat": 4,
 "nbformat_minor": 5
}
