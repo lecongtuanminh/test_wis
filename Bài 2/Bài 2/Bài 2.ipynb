{
 "cells": [
  {
   "cell_type": "code",
   "execution_count": 22,
   "id": "composite-negative",
   "metadata": {},
   "outputs": [
    {
     "name": "stdout",
     "output_type": "stream",
     "text": [
      "Bạn muốn bao nhiêu số Fibonacci: 8\n",
      "1 1 2 3 5 8 13 21 "
     ]
    }
   ],
   "source": [
    "a = 1\n",
    "b = 1\n",
    "n = int(input('Bạn muốn bao nhiêu số Fibonacci: '))\n",
    "for i in range(n):\n",
    "    temp = a\n",
    "    a = b\n",
    "    b = temp + b\n",
    "    print(temp, end =' ')\n",
    "    "
   ]
  }
 ],
 "metadata": {
  "kernelspec": {
   "display_name": "Python 3",
   "language": "python",
   "name": "python3"
  },
  "language_info": {
   "codemirror_mode": {
    "name": "ipython",
    "version": 3
   },
   "file_extension": ".py",
   "mimetype": "text/x-python",
   "name": "python",
   "nbconvert_exporter": "python",
   "pygments_lexer": "ipython3",
   "version": "3.8.8"
  }
 },
 "nbformat": 4,
 "nbformat_minor": 5
}
