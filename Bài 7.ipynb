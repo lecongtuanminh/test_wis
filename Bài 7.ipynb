{
 "cells": [
  {
   "cell_type": "code",
   "execution_count": 1,
   "id": "e3606ca1",
   "metadata": {},
   "outputs": [
    {
     "name": "stdout",
     "output_type": "stream",
     "text": [
      "Hãy đoán con số có 4 chữ số \n",
      "3074\n",
      "Hãy đoán con số: 2314\n",
      "1 cows, 1 bulls\n",
      "Hãy đoán con số: 2114\n",
      "1 cows, 0 bulls\n",
      "Hãy đoán con số: 3214\n",
      "2 cows, 0 bulls\n",
      "Hãy đoán con số: 23355\n",
      "Hãy đoán con số có 4 chữ số\n",
      "Hãy đoán con số: 3345\n",
      "1 cows, 2 bulls\n",
      "Hãy đoán con số: 3212\n",
      "1 cows, 0 bulls\n",
      "Hãy đoán con số: 3074\n",
      "4 cows, 0 bulls\n",
      "Bạn đoán đúng rồi!\n",
      "Bạn đã đoán 7 lần\n"
     ]
    }
   ],
   "source": [
    "import random\n",
    "def get_digits(num):\n",
    "    return [int(i) for i in str(num)]\n",
    "num = random.randint(1000,9999)\n",
    "print('Hãy đoán con số có 4 chữ số ')\n",
    "print(num) #nếu muốn biết số\n",
    "def num_cows_bulls(num,guess):\n",
    "    cow_bull = [0,0]\n",
    "    num_list = get_digits(num)\n",
    "    guess_list = get_digits(guess)\n",
    "        \n",
    "    for i,j in zip(num_list,guess_list):\n",
    "        if j in num_list:\n",
    "            if j == i:\n",
    "                cow_bull[0] += 1\n",
    "            else:\n",
    "                cow_bull[1] += 1\n",
    "    return cow_bull\n",
    "try_count=0\n",
    "while True:\n",
    "    guess = int(input(\"Hãy đoán con số: \"))\n",
    "    try_count+=1\n",
    "    if guess < 1000 or guess > 9999:\n",
    "        print(\"Hãy đoán con số có 4 chữ số\")\n",
    "        continue\n",
    "        \n",
    "    cow_bull = num_cows_bulls(num,guess)\n",
    "    print(f\"{cow_bull[0]} cows, {cow_bull[1]} bulls\")\n",
    "    if cow_bull[0] == 4:\n",
    "        print(\"Bạn đoán đúng rồi!\")\n",
    "        print('Bạn đã đoán',try_count,'lần')\n",
    "        break\n",
    "\n",
    "\n",
    "\n"
   ]
  }
 ],
 "metadata": {
  "kernelspec": {
   "display_name": "Python 3",
   "language": "python",
   "name": "python3"
  },
  "language_info": {
   "codemirror_mode": {
    "name": "ipython",
    "version": 3
   },
   "file_extension": ".py",
   "mimetype": "text/x-python",
   "name": "python",
   "nbconvert_exporter": "python",
   "pygments_lexer": "ipython3",
   "version": "3.8.8"
  }
 },
 "nbformat": 4,
 "nbformat_minor": 5
}
