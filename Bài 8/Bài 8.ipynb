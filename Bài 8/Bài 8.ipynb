{
 "cells": [
  {
   "cell_type": "code",
   "execution_count": 39,
   "id": "968bdb62",
   "metadata": {},
   "outputs": [
    {
     "name": "stdout",
     "output_type": "stream",
     "text": [
      "Nhập số nguyên :230902\n",
      "Nhập cơ số :32\n",
      "số nguyên 230902 trong hệ cơ số 32 là:  71fm\n"
     ]
    }
   ],
   "source": [
    "import string\n",
    "digs = string.digits + string.ascii_letters\n",
    "\n",
    "def convert():\n",
    "    num = int(input('Nhập số nguyên :'))\n",
    "    base = int(input('Nhập cơ số :'))\n",
    "    ini_num = num\n",
    "\n",
    "    if num < 0:\n",
    "        sign = -1\n",
    "    elif num == 0:\n",
    "        return digs[0]\n",
    "    else:\n",
    "        sign = 1\n",
    "\n",
    "    num = num*sign\n",
    "    digits = []\n",
    "\n",
    "    while num:\n",
    "        digits.append(digs[int(num % base)])\n",
    "        num = int(num / base)\n",
    "\n",
    "    if sign < 0:\n",
    "        digits.append('-')\n",
    "\n",
    "    digits.reverse()\n",
    "\n",
    "    print('số nguyên {} trong hệ cơ số {} là: '.format(ini_num,base), ''.join(digits))\n",
    "\n",
    "\n",
    "convert()"
   ]
  }
 ],
 "metadata": {
  "kernelspec": {
   "display_name": "Python 3",
   "language": "python",
   "name": "python3"
  },
  "language_info": {
   "codemirror_mode": {
    "name": "ipython",
    "version": 3
   },
   "file_extension": ".py",
   "mimetype": "text/x-python",
   "name": "python",
   "nbconvert_exporter": "python",
   "pygments_lexer": "ipython3",
   "version": "3.8.8"
  }
 },
 "nbformat": 4,
 "nbformat_minor": 5
}
