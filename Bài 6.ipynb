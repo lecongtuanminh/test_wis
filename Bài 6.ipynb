{
 "cells": [
  {
   "cell_type": "code",
   "execution_count": 2,
   "id": "d54055c9",
   "metadata": {},
   "outputs": [
    {
     "name": "stdout",
     "output_type": "stream",
     "text": [
      "Nhập số nguyên dương:12\n",
      "Giai thừa là 479001600\n"
     ]
    }
   ],
   "source": [
    "num = int(input(\"Nhập số nguyên dương:\"))\n",
    "factorial = 1\n",
    "while num>0:\n",
    "    factorial = factorial * num\n",
    "    num = num - 1\n",
    "print('Giai thừa là',factorial)"
   ]
  }
 ],
 "metadata": {
  "kernelspec": {
   "display_name": "Python 3",
   "language": "python",
   "name": "python3"
  },
  "language_info": {
   "codemirror_mode": {
    "name": "ipython",
    "version": 3
   },
   "file_extension": ".py",
   "mimetype": "text/x-python",
   "name": "python",
   "nbconvert_exporter": "python",
   "pygments_lexer": "ipython3",
   "version": "3.8.8"
  }
 },
 "nbformat": 4,
 "nbformat_minor": 5
}
