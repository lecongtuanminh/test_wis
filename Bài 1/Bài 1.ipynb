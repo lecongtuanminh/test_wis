{
 "cells": [
  {
   "cell_type": "code",
   "execution_count": 10,
   "id": "bridal-favor",
   "metadata": {},
   "outputs": [
    {
     "name": "stdout",
     "output_type": "stream",
     "text": [
      "Hãy nhập chuỗi:assa\n",
      "Chuỗi là palindrome\n"
     ]
    }
   ],
   "source": [
    "chuoi_nhap  =str(input('Hãy nhập chuỗi:'))\n",
    "chuoi_dao = chuoi_nhap[::-1]\n",
    "if chuoi_nhap == chuoi_dao:\n",
    "    print('Chuỗi là palindrome')\n",
    "else:\n",
    "    print('Chuỗi không phải là palindrome')\n",
    "\n",
    "\n",
    "\n"
   ]
  }
 ],
 "metadata": {
  "kernelspec": {
   "display_name": "Python 3",
   "language": "python",
   "name": "python3"
  },
  "language_info": {
   "codemirror_mode": {
    "name": "ipython",
    "version": 3
   },
   "file_extension": ".py",
   "mimetype": "text/x-python",
   "name": "python",
   "nbconvert_exporter": "python",
   "pygments_lexer": "ipython3",
   "version": "3.8.8"
  }
 },
 "nbformat": 4,
 "nbformat_minor": 5
}
