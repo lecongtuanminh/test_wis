{
 "cells": [
  {
   "cell_type": "code",
   "execution_count": 4,
   "metadata": {},
   "outputs": [
    {
     "name": "stdout",
     "output_type": "stream",
     "text": [
      "Nhập số: 12\n",
      "12 không phải là số nguyên tố\n"
     ]
    }
   ],
   "source": [
    "import math\n",
    "num = int(input(\"Nhập số: \"))\n",
    "\n",
    "\n",
    "if num > 1:\n",
    "   for i in range(2,math.floor(math.sqrt(num))):\n",
    "       if (num % i) == 0:\n",
    "           print(num,\"không phải là số nguyên tố\")\n",
    "           break\n",
    "   else:\n",
    "       print(num,\"là số nguyên tố\")\n",
    "else:\n",
    "   print(num,\"không phải là số nguyên tố\")"
   ]
  }
 ],
 "metadata": {
  "kernelspec": {
   "display_name": "Python 3",
   "language": "python",
   "name": "python3"
  },
  "language_info": {
   "codemirror_mode": {
    "name": "ipython",
    "version": 3
   },
   "file_extension": ".py",
   "mimetype": "text/x-python",
   "name": "python",
   "nbconvert_exporter": "python",
   "pygments_lexer": "ipython3",
   "version": "3.8.8"
  }
 },
 "nbformat": 4,
 "nbformat_minor": 4
}
