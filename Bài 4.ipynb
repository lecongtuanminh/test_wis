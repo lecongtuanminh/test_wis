{
 "cells": [
  {
   "cell_type": "code",
   "execution_count": 1,
   "id": "53e80fab",
   "metadata": {},
   "outputs": [
    {
     "name": "stdout",
     "output_type": "stream",
     "text": [
      "Nhập các số nhị phân 4 chữ số, phân tách bởi dấu phẩy: 1010,0101,0010,1100\n",
      "\n",
      "Hợp lệ\n",
      "\n",
      "1010,0010,1100,"
     ]
    }
   ],
   "source": [
    "class Error1(Exception):\n",
    "    pass\n",
    "    \n",
    "class Error2(Exception):\n",
    "    pass\n",
    "    \n",
    "while True:\n",
    "    inp = list(map(str, input(\"Nhập các số nhị phân 4 chữ số, phân tách bởi dấu phẩy: \").split(\",\")))\n",
    "    try:\n",
    "        for item in inp:\n",
    "            if len(item) != 4:\n",
    "                raise Error1(print('\\nHãy nhập các số có 4 chữ số'))   \n",
    "        for item in inp:\n",
    "            for i in range(len(item)):\n",
    "                if item[i] != '0' and item[i] != '1':\n",
    "                    raise Error2(print('\\nHãy nhập các số nhị phân'))\n",
    "        \n",
    "    except (Error1,Error2):\n",
    "        print('')\n",
    "    else:\n",
    "        print ('\\nHợp lệ\\n')\n",
    "        break\n",
    "        \n",
    "for item in inp: \n",
    "    if int(item)%5==0:\n",
    "        print(item, end=',')"
   ]
  }
 ],
 "metadata": {
  "kernelspec": {
   "display_name": "Python 3",
   "language": "python",
   "name": "python3"
  },
  "language_info": {
   "codemirror_mode": {
    "name": "ipython",
    "version": 3
   },
   "file_extension": ".py",
   "mimetype": "text/x-python",
   "name": "python",
   "nbconvert_exporter": "python",
   "pygments_lexer": "ipython3",
   "version": "3.8.8"
  }
 },
 "nbformat": 4,
 "nbformat_minor": 5
}
